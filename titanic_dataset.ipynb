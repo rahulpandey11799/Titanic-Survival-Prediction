{
  "nbformat": 4,
  "nbformat_minor": 0,
  "metadata": {
    "colab": {
      "private_outputs": true,
      "provenance": []
    },
    "kernelspec": {
      "name": "python3",
      "display_name": "Python 3"
    },
    "language_info": {
      "name": "python"
    }
  },
  "cells": [
    {
      "cell_type": "markdown",
      "source": [
        "# **In Tianic DataSet, Pridict the Survival Accuracy**"
      ],
      "metadata": {
        "id": "rtNbP6zeu7vp"
      }
    },
    {
      "cell_type": "markdown",
      "source": [
        "## **Loading libraries**"
      ],
      "metadata": {
        "id": "thXTZu9KDwxU"
      }
    },
    {
      "cell_type": "code",
      "execution_count": null,
      "metadata": {
        "id": "xplttwOHOw3o"
      },
      "outputs": [],
      "source": [
        "import pandas as pd\n",
        "import numpy as np\n",
        "import matplotlib.pyplot as plt"
      ]
    },
    {
      "cell_type": "markdown",
      "source": [
        "## **Loading data set**"
      ],
      "metadata": {
        "id": "hEW-_P6bD34L"
      }
    },
    {
      "cell_type": "code",
      "source": [
        "df=pd.read_csv('/content/bike (1).csv')\n",
        "df.head(10)"
      ],
      "metadata": {
        "id": "VfFKHOSxPW-e"
      },
      "execution_count": null,
      "outputs": []
    },
    {
      "cell_type": "markdown",
      "source": [
        "## **Check Size , Shape , Dimension and Data types**"
      ],
      "metadata": {
        "id": "QicR9ItKPpJA"
      }
    },
    {
      "cell_type": "code",
      "source": [
        "print(df.size) \n",
        "print(df.shape)\n",
        "print(df.ndim)  \n",
        "print(df.dtypes)"
      ],
      "metadata": {
        "id": "uf7m6VAFr_3v"
      },
      "execution_count": null,
      "outputs": []
    },
    {
      "cell_type": "markdown",
      "source": [
        "## **check the information**"
      ],
      "metadata": {
        "id": "G0c8q2AxEEAj"
      }
    },
    {
      "cell_type": "code",
      "source": [
        "df.info()"
      ],
      "metadata": {
        "id": "WVj7qX8OP8Jo"
      },
      "execution_count": null,
      "outputs": []
    },
    {
      "cell_type": "markdown",
      "source": [
        "## **check the statistic part** "
      ],
      "metadata": {
        "id": "gURihQltEJDa"
      }
    },
    {
      "cell_type": "code",
      "source": [
        "df.describe()"
      ],
      "metadata": {
        "id": "dTCq21pWQEHw"
      },
      "execution_count": null,
      "outputs": []
    },
    {
      "cell_type": "markdown",
      "source": [
        "## **check the value inside the column**"
      ],
      "metadata": {
        "id": "HCueVn0AESLy"
      }
    },
    {
      "cell_type": "code",
      "source": [
        "df['Survived'].unique()"
      ],
      "metadata": {
        "id": "PziH7LzNQIyo"
      },
      "execution_count": null,
      "outputs": []
    },
    {
      "cell_type": "markdown",
      "source": [
        "# **Dealing with missing values** "
      ],
      "metadata": {
        "id": "b0XAox1OEZGM"
      }
    },
    {
      "cell_type": "code",
      "source": [
        "df.isnull().sum()"
      ],
      "metadata": {
        "id": "iGTvfWKCQ1Ow"
      },
      "execution_count": null,
      "outputs": []
    },
    {
      "cell_type": "markdown",
      "source": [
        "## **Imputing missing values in Numerical features**\n"
      ],
      "metadata": {
        "id": "kQLGcbiLEfji"
      }
    },
    {
      "cell_type": "code",
      "source": [
        "meanV = df['Fare'].mean()\n",
        "df['Fare']=df['Fare'].fillna(meanV)\n",
        "\n",
        "meanV = df['Age'].median()\n",
        "df['Age']=df['Age'].fillna(meanV)\n"
      ],
      "metadata": {
        "id": "eYOsCz0sSQ7I"
      },
      "execution_count": null,
      "outputs": []
    },
    {
      "cell_type": "markdown",
      "source": [
        "## **Converting selected features into numerical using LabelEncoder**\n"
      ],
      "metadata": {
        "id": "VpEdeve-rih4"
      }
    },
    {
      "cell_type": "code",
      "source": [
        "from sklearn import preprocessing\n",
        "le = preprocessing.LabelEncoder()\n",
        "df['Name']=le.fit_transform(df['Name'])\n",
        "df['Sex']=le.fit_transform(df['Sex'])\n",
        "df['Ticket']=le.fit_transform(df['Ticket'])\n",
        "df['Embarked']=le.fit_transform(df['Embarked'])\n",
        "df['Fare']=le.fit_transform(df['Fare'])\n",
        "df['Age']=le.fit_transform(df['Age'])\n",
        "df['Cabin']=le.fit_transform(df['Cabin'])"
      ],
      "metadata": {
        "id": "n4x0FrbgrWXh"
      },
      "execution_count": null,
      "outputs": []
    },
    {
      "cell_type": "markdown",
      "source": [
        "##  **Imputing missing values in Categorical features**"
      ],
      "metadata": {
        "id": "dfay-IahEsy0"
      }
    },
    {
      "cell_type": "code",
      "source": [
        "from sklearn.impute import SimpleImputer\n",
        "impute_size= SimpleImputer(strategy='mean')\n",
        "si= impute_size.fit_transform(df[['Cabin']])\n"
      ],
      "metadata": {
        "id": "ghVio1sCogkA"
      },
      "execution_count": null,
      "outputs": []
    },
    {
      "cell_type": "code",
      "source": [
        "df['Cabin'].unique()"
      ],
      "metadata": {
        "id": "ncbNFsxmq4QY"
      },
      "execution_count": null,
      "outputs": []
    },
    {
      "cell_type": "markdown",
      "source": [
        "## **Again Dealing with missing values**"
      ],
      "metadata": {
        "id": "7Gj6kxAwYGch"
      }
    },
    {
      "cell_type": "code",
      "source": [
        "df.isnull().sum()"
      ],
      "metadata": {
        "id": "5EjSU1LuYAqx"
      },
      "execution_count": null,
      "outputs": []
    },
    {
      "cell_type": "markdown",
      "source": [
        "## **How Many values present inside the Survived Column and Plot also**"
      ],
      "metadata": {
        "id": "gfnyJXDMQjN_"
      }
    },
    {
      "cell_type": "code",
      "source": [
        "df.Survived.value_counts()"
      ],
      "metadata": {
        "id": "iwkHCZRFzaLx"
      },
      "execution_count": null,
      "outputs": []
    },
    {
      "cell_type": "code",
      "source": [
        "df.Survived.value_counts().plot(kind = 'bar', color = ['b', 'g'], title = 'Survived')"
      ],
      "metadata": {
        "id": "fpqKzZLLxZmZ"
      },
      "execution_count": null,
      "outputs": []
    },
    {
      "cell_type": "markdown",
      "source": [
        "## **Draw Kernel Density Estimate(KDE) plot in DataSet**"
      ],
      "metadata": {
        "id": "qpGIMTzDQ8mh"
      }
    },
    {
      "cell_type": "markdown",
      "source": [
        " **kernel density estimation (KDE) is a non-parametric way to estimate the probability density function of a random variable**"
      ],
      "metadata": {
        "id": "PPy251xaRc9o"
      }
    },
    {
      "cell_type": "code",
      "source": [
        "df.plot.kde()"
      ],
      "metadata": {
        "id": "WenuY_k41e6F"
      },
      "execution_count": null,
      "outputs": []
    },
    {
      "cell_type": "markdown",
      "source": [
        "**In this graph we saw my dataSet is very messy because here all data come in only one place and we do not understand anything**."
      ],
      "metadata": {
        "id": "KywNsMBNRqJw"
      }
    },
    {
      "cell_type": "markdown",
      "source": [
        "## **Normalizing features using Min-Max in Scikit Learn**"
      ],
      "metadata": {
        "id": "tePN3VgPv88o"
      }
    },
    {
      "cell_type": "code",
      "source": [
        "from sklearn.preprocessing import MinMaxScaler\n",
        "import numpy as np\n",
        "\n",
        "min_max=MinMaxScaler()\n",
        "\n",
        "# normalize all int features\n",
        "col=df.columns[df.dtypes =='int64']\n",
        "for i in col:\n",
        "    x = df[i]\n",
        "    y = np.array(x).reshape(-1,1)\n",
        "    df[i] = min_max.fit_transform(y)\n",
        "\n",
        "# normalize all float features    \n",
        "col=df.columns[df.dtypes =='float64']\n",
        "for i in col:\n",
        "    x = df[i]\n",
        "    y = np.array(x).reshape(-1,1)\n",
        "    df[i] = min_max.fit_transform(y)  \n",
        "    \n",
        "print(df) "
      ],
      "metadata": {
        "id": "i1UTMCaStWxg"
      },
      "execution_count": null,
      "outputs": []
    },
    {
      "cell_type": "code",
      "source": [
        "df.plot.kde()"
      ],
      "metadata": {
        "id": "PU4kFIlr2Gfi"
      },
      "execution_count": null,
      "outputs": []
    },
    {
      "cell_type": "markdown",
      "source": [
        "## **Use PCA method and create the new column**"
      ],
      "metadata": {
        "id": "uHWUjLqwFuF0"
      }
    },
    {
      "cell_type": "code",
      "source": [
        "from sklearn.decomposition import PCA\n",
        "pca = PCA(n_components=2) \n",
        "\n",
        "New_points = pca.fit_transform(df.iloc[:,0:12])\n",
        "\n",
        "pca_points =pd.DataFrame(New_points, columns= ['feature 1', 'feature 2'])\n",
        "\n",
        "pca_model = pd.concat([pca_points,df.iloc[:,11]], axis = 1)\n",
        "\n",
        "\n",
        "\n",
        "print(pca_model)\n"
      ],
      "metadata": {
        "id": "3UhlKO-lI5f5"
      },
      "execution_count": null,
      "outputs": []
    },
    {
      "cell_type": "markdown",
      "source": [
        "## **dependent and independent value** "
      ],
      "metadata": {
        "id": "KOItr1O5GIWH"
      }
    },
    {
      "cell_type": "code",
      "source": [
        "x=pca_points\n",
        "y=df['Survived']"
      ],
      "metadata": {
        "id": "18t7ubt_HS6q"
      },
      "execution_count": null,
      "outputs": []
    },
    {
      "cell_type": "markdown",
      "source": [
        "## **Show Scatter Plot**"
      ],
      "metadata": {
        "id": "HiBNLAceWxsq"
      }
    },
    {
      "cell_type": "code",
      "source": [
        "plt.figure(figsize=(10,6))\n",
        "plt.scatter(df['Age'],df['Ticket'],c=df['Embarked'],edgecolors='k',alpha=0.75,s=150)\n",
        "plt.grid(True)\n",
        "plt.title(\"Scatter plot of two features showing the \\ncorrelation and Alcohol seperation\",fontsize=15)\n",
        "plt.xlabel(\"Age\",fontsize=15)\n",
        "plt.ylabel(\"Ticket\",fontsize=15)\n",
        "plt.show() "
      ],
      "metadata": {
        "id": "FSMkjCjOFZ-s"
      },
      "execution_count": null,
      "outputs": []
    },
    {
      "cell_type": "code",
      "source": [
        "dfx_trans = pca.transform(df)\n",
        "# Put it in a data frame\n",
        "dfx_trans = pd.DataFrame(data=dfx_trans)\n",
        "dfx_trans.head(10)"
      ],
      "metadata": {
        "id": "9XOn6AIyHm_W"
      },
      "execution_count": null,
      "outputs": []
    },
    {
      "cell_type": "code",
      "source": [
        "plt.figure(figsize=(10,6))\n",
        "plt.scatter(dfx_trans[0],dfx_trans[1],c=df['Embarked'],edgecolors='k',alpha=1,s=250)\n",
        "plt.grid(True)\n",
        "plt.title(\"ID separation using first two principal components\\n\",fontsize=20)\n",
        "plt.xlabel(\"Principal component-1\",fontsize=15)\n",
        "plt.ylabel(\"Principal component-2\",fontsize=15)\n",
        "plt.show()"
      ],
      "metadata": {
        "id": "P5ep0Sq-HzKF"
      },
      "execution_count": null,
      "outputs": []
    },
    {
      "cell_type": "markdown",
      "source": [
        "## **Apply Hold out method and use Linear regression Algorithm**"
      ],
      "metadata": {
        "id": "6BLE753Mympc"
      }
    },
    {
      "cell_type": "code",
      "source": [
        "from sklearn.model_selection import train_test_split\n",
        "from sklearn.linear_model import LinearRegression\n",
        "from sklearn.metrics import mean_squared_error\n",
        "from sklearn.metrics import accuracy_score\n",
        "x_train,x_test,y_train,y_test= train_test_split(x,y,test_size=0.3)\n",
        "lr=LinearRegression()\n",
        "lr.fit(x_train,y_train)\n",
        "y_pred=lr.predict(x_test)\n",
        "lr.score(x_train,y_train)*100"
      ],
      "metadata": {
        "id": "-IKorIlgYrqB"
      },
      "execution_count": null,
      "outputs": []
    },
    {
      "cell_type": "markdown",
      "source": [
        "## **Apply Cross Validation Method and Use Logistic Algorithm**"
      ],
      "metadata": {
        "id": "GVrI05tnGZsE"
      }
    },
    {
      "cell_type": "code",
      "source": [
        "from sklearn.model_selection import cross_val_score,KFold\n",
        "from sklearn.linear_model import LogisticRegression\n",
        "\n",
        "logreg=LogisticRegression()\n",
        "kf=KFold(n_splits=2)\n",
        "\n",
        "score=cross_val_score(logreg,x,y,cv=kf)\n",
        "print(\"Cross Validation Scores are {}\".format(score))\n",
        "print(\"Average Cross Validation score :{}\".format(score.mean()*100))\n",
        "print('.....')"
      ],
      "metadata": {
        "id": "qfdEuf1d2GWy"
      },
      "execution_count": null,
      "outputs": []
    }
  ]
}